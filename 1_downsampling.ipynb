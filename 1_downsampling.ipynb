{
  "nbformat": 4,
  "nbformat_minor": 0,
  "metadata": {
    "colab": {
      "provenance": [],
      "authorship_tag": "ABX9TyMFO/Y0Zrk3mxXpDyqdekhj"
    },
    "kernelspec": {
      "name": "python3",
      "display_name": "Python 3"
    },
    "language_info": {
      "name": "python"
    }
  },
  "cells": [
    {
      "cell_type": "code",
      "execution_count": 1,
      "metadata": {
        "id": "Q26xC-T_Dc8m"
      },
      "outputs": [],
      "source": [
        "import pandas as pd\n",
        "\n",
        "queries_df = pd.read_csv('queries.csv')\n",
        "all_results_df = pd.read_csv('all_results.csv')\n",
        "unique_results_df = pd.read_csv('uniqueResults.csv')\n",
        "all_Top10_SERP_MM_df = pd.read_csv('all_Top10_SERP-MM.csv')\n",
        "\n",
        "all_results_sample = all_results_df.sample(n=2000, random_state=42)\n",
        "unique_results_sample = unique_results_df.sample(n=2000, random_state=42)\n",
        "all_Top10_SERP_MM_sample = all_Top10_SERP_MM_df.sample(n=2000, random_state=42, replace = True)\n",
        "\n",
        "all_results_sample.to_csv('all_results_sample.csv', index=False)\n",
        "unique_results_sample.to_csv('uniqueResults_sample.csv', index=False)\n",
        "all_Top10_SERP_MM_sample.to_csv('all_Top10_SERP_MM_sample.csv', index=False)"
      ]
    },
    {
      "cell_type": "code",
      "source": [
        "# Check the number of fields in each downsampled DataFrame\n",
        "print(\"Number of fields in all_results_sample:\", all_results_sample.shape[1])\n",
        "print(\"Number of fields in unique_results_sample:\", unique_results_sample.shape[1])\n",
        "print(\"Number of fields in all_Top10_SERP_MM_sample:\", all_Top10_SERP_MM_sample.shape[1])\n"
      ],
      "metadata": {
        "colab": {
          "base_uri": "https://localhost:8080/"
        },
        "id": "u9skeP2YgBvv",
        "outputId": "629c7824-367d-40d1-a28f-183b62f1574d"
      },
      "execution_count": 2,
      "outputs": [
        {
          "output_type": "stream",
          "name": "stdout",
          "text": [
            "Number of fields in all_results_sample: 17\n",
            "Number of fields in unique_results_sample: 15\n",
            "Number of fields in all_Top10_SERP_MM_sample: 12\n"
          ]
        }
      ]
    },
    {
      "cell_type": "code",
      "source": [
        "# Check the number of samples in each downsampled DataFrame\n",
        "print(\"Number of samples in all_results_sample:\", all_results_sample.shape[0])\n",
        "print(\"Number of samples in unique_results_sample:\", unique_results_sample.shape[0])\n",
        "print(\"Number of samples in all_Top10_SERP_MM_sample:\", all_Top10_SERP_MM_sample.shape[0])\n"
      ],
      "metadata": {
        "colab": {
          "base_uri": "https://localhost:8080/"
        },
        "id": "njPcVMcyg80-",
        "outputId": "2b816f1b-f512-4439-b0f0-99eeb26a076d"
      },
      "execution_count": 3,
      "outputs": [
        {
          "output_type": "stream",
          "name": "stdout",
          "text": [
            "Number of samples in all_results_sample: 2000\n",
            "Number of samples in unique_results_sample: 2000\n",
            "Number of samples in all_Top10_SERP_MM_sample: 2000\n"
          ]
        }
      ]
    }
  ]
}
