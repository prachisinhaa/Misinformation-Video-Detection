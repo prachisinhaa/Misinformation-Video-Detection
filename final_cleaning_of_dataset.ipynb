{
  "nbformat": 4,
  "nbformat_minor": 0,
  "metadata": {
    "colab": {
      "provenance": []
    },
    "kernelspec": {
      "name": "python3",
      "display_name": "Python 3"
    },
    "language_info": {
      "name": "python"
    }
  },
  "cells": [
    {
      "cell_type": "markdown",
      "source": [
        "I have filtered out the csv file to only include what is relevant to us which are the video IDs and their respective annotations. Since there were issues with the API trying to extract thumbnails of the video, we were able to get 783 rows in the csv but 785 images, so i have deleted the extra 2 images as well."
      ],
      "metadata": {
        "id": "qnmwE5WlzXCg"
      }
    },
    {
      "cell_type": "code",
      "source": [
        "import pandas as pd\n",
        "import os\n",
        "\n",
        "# Assuming the CSV file is named 'all_results_sample.csv' and the folder containing images is mounted from Google Drive and named 'output'\n",
        "csv_file = 'all_results_sample.csv'\n",
        "image_folder = '/content/drive/MyDrive/output'\n",
        "\n",
        "# Load CSV file into a DataFrame\n",
        "annotations_df = pd.read_csv(csv_file)\n",
        "\n",
        "# Extract video IDs from the 'vid_url' column\n",
        "annotations_df['video_id'] = annotations_df['vid_url'].str.extract(r'(?<=v=)([\\w-]+)')\n",
        "\n",
        "# Create a new DataFrame 'id_df' with just the 'video_id' column\n",
        "# Drop all columns except 'video_id' and 'annotations'\n",
        "annotations_df = annotations_df[['video_id', 'annotation']].copy()\n",
        "\n",
        "# Get a list of image names from the folder\n",
        "image_names = os.listdir(image_folder)\n",
        "\n",
        "# # Remove the '.jpg' extension from image names\n",
        "image_names_without_extension = [name.replace('.jpg', '') for name in image_names]\n",
        "# print(image_names_without_extension)\n",
        "print(len(image_names_without_extension))\n",
        "\n",
        "filtered_annotations_df = annotations_df[annotations_df['video_id'].isin(image_names_without_extension)]\n",
        "filtered_annotations_df\n",
        "\n",
        "# Keep only unique values of 'video_id' in filtered_annotations_df\n",
        "filtered_annotations_df = filtered_annotations_df.drop_duplicates(subset=['video_id'])\n",
        "\n",
        "# Get the list of unique video IDs in filtered_annotations_df\n",
        "unique_video_ids = filtered_annotations_df['video_id'].unique()\n",
        "\n",
        "# Now filtered_annotations_df contains only unique values of 'video_id'\n",
        "# Get the list of image names to delete\n",
        "images_to_delete = [name + '.jpg' for name in image_names_without_extension if name not in unique_video_ids]\n",
        "\n",
        "# Delete the images from the folder\n",
        "for image_name in images_to_delete:\n",
        "    image_path = os.path.join(image_folder, image_name)\n",
        "    os.remove(image_path)\n",
        "\n",
        "print(f\"Deleted {len(images_to_delete)} images from the folder.\")"
      ],
      "metadata": {
        "colab": {
          "base_uri": "https://localhost:8080/"
        },
        "id": "nzvmcv1_kMzw",
        "outputId": "9d035687-eff3-4010-e62d-dad46b848873"
      },
      "execution_count": 51,
      "outputs": [
        {
          "output_type": "stream",
          "name": "stdout",
          "text": [
            "785\n",
            "Deleted 2 images from the folder.\n"
          ]
        }
      ]
    },
    {
      "cell_type": "code",
      "source": [
        "# Path to save the final CSV file\n",
        "output_csv_file = 'filtered_annotations.csv'\n",
        "\n",
        "# Save the final DataFrame to a CSV file\n",
        "filtered_annotations_df.to_csv(output_csv_file, index=False)\n",
        "\n",
        "print(f\"Filtered annotations saved to {output_csv_file}.\")"
      ],
      "metadata": {
        "id": "KcwNWVPO0RM4",
        "outputId": "e7fa6be9-0a95-4339-b9e8-67753821bb8a",
        "colab": {
          "base_uri": "https://localhost:8080/"
        }
      },
      "execution_count": 52,
      "outputs": [
        {
          "output_type": "stream",
          "name": "stdout",
          "text": [
            "Filtered annotations saved to filtered_annotations.csv.\n"
          ]
        }
      ]
    }
  ]
}