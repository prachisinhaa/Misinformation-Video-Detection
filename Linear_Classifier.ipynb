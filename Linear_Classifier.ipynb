{
  "nbformat": 4,
  "nbformat_minor": 0,
  "metadata": {
    "colab": {
      "provenance": []
    },
    "kernelspec": {
      "name": "python3",
      "display_name": "Python 3"
    },
    "language_info": {
      "name": "python"
    }
  },
  "cells": [
    {
      "cell_type": "code",
      "source": [
        "from google.colab import drive\n",
        "drive.mount('/content/drive')"
      ],
      "metadata": {
        "colab": {
          "base_uri": "https://localhost:8080/"
        },
        "id": "YrVA4GFDKQDb",
        "outputId": "6687abf4-fb5a-42fc-e927-c8750e29b7d3"
      },
      "execution_count": 5,
      "outputs": [
        {
          "output_type": "stream",
          "name": "stdout",
          "text": [
            "Drive already mounted at /content/drive; to attempt to forcibly remount, call drive.mount(\"/content/drive\", force_remount=True).\n"
          ]
        }
      ]
    },
    {
      "cell_type": "code",
      "execution_count": null,
      "metadata": {
        "id": "B2n9UfCez_KW"
      },
      "outputs": [],
      "source": [
        "import pandas as pd\n",
        "\n",
        "image_folder=\"/content/drive/MyDrive/output\"\n",
        "\n",
        "filtered_annotations_df = pd.read_csv('/content/filtered_annotations.csv')\n",
        "\n",
        "\n",
        "\n"
      ]
    },
    {
      "cell_type": "markdown",
      "source": [
        "This code snippet is processing annotations and images.\n",
        "1. Imports:\n",
        "os: Provides a way to interact with the operating system, like reading file paths.\n",
        "cv2: OpenCV library for computer vision tasks.\n",
        "pandas as pd: Pandas library for data manipulation.\n",
        "2. An empty list data is initialized to store tuples of image and its corresponding annotation.\n",
        "3. The loop iterates over each row of the filtered_annotations_df DataFrame. The DataFrame contains annotations for videos. For each row, it extracts the video_id and normalized_annotation.\n",
        "4. Checking if the image at image_path exists. If it does, it reads the image using OpenCV's imread function and stores it in the image variable.\n",
        "5. If the image was successfully read (i.e., not None), it appends a tuple containing the image and its annotation to the data list."
      ],
      "metadata": {
        "id": "YDwY-EAGWgY_"
      }
    },
    {
      "cell_type": "code",
      "source": [
        "import os\n",
        "import cv2\n",
        "import pandas as pd\n",
        "\n",
        "data = []\n",
        "\n",
        "for index, row in filtered_annotations_df.iterrows():\n",
        "    video_id = row['video_id']  # Extract video ID\n",
        "    annotation = row['normalized_annotation']  # Extract annotation\n",
        "\n",
        "    # Assuming image folder contains images with names corresponding to video IDs\n",
        "    image_path = os.path.join(image_folder, f\"{video_id}.jpg\")  # Construct image path\n",
        "    if os.path.exists(image_path):  # Check if image exists\n",
        "        image = cv2.imread(image_path)  # Read image using OpenCV\n",
        "        if image is not None:  # Check if image is successfully read\n",
        "            data.append((image, annotation))  # Append image and annotation to the data list\n",
        "\n",
        "# Now 'data' contains tuples of (image, annotation), where image is the image array and annotation is its corresponding label\n"
      ],
      "metadata": {
        "id": "0CCYNd1e5hWn"
      },
      "execution_count": 3,
      "outputs": []
    },
    {
      "cell_type": "markdown",
      "source": [
        "Printing the size of the data."
      ],
      "metadata": {
        "id": "bWDp24JIZXo9"
      }
    },
    {
      "cell_type": "code",
      "source": [
        "data_size = len(data)\n",
        "print(\"Size of the data:\", data_size)"
      ],
      "metadata": {
        "id": "sMKmL_H97qv0",
        "colab": {
          "base_uri": "https://localhost:8080/"
        },
        "outputId": "72b14bbd-0773-4aef-b9ba-1440a84b5e69"
      },
      "execution_count": 4,
      "outputs": [
        {
          "output_type": "stream",
          "name": "stdout",
          "text": [
            "Size of the data: 783\n"
          ]
        }
      ]
    },
    {
      "cell_type": "markdown",
      "source": [
        "X= images Y= annotations."
      ],
      "metadata": {
        "id": "PvaZ99MzZapC"
      }
    },
    {
      "cell_type": "code",
      "source": [
        "X = [item[0] for item in data]\n",
        "Y = [item[1] for item in data]"
      ],
      "metadata": {
        "id": "eV5RNT2o7unN"
      },
      "execution_count": 6,
      "outputs": []
    },
    {
      "cell_type": "markdown",
      "source": [
        "Convert labels from -1, 0, 1 to 0, 1, 2"
      ],
      "metadata": {
        "id": "nYCBlj58Zd9S"
      }
    },
    {
      "cell_type": "code",
      "source": [
        "Y = [label + 1 for label in Y]"
      ],
      "metadata": {
        "id": "rX0ayVm272t8"
      },
      "execution_count": 7,
      "outputs": []
    },
    {
      "cell_type": "code",
      "source": [
        "import numpy as np\n",
        "from sklearn.model_selection import train_test_split\n",
        "\n",
        "# Assuming data is a list of tuples (image, annotation)\n",
        "\n",
        "# Extract features (images) and labels (annotations)\n",
        "X = np.array([np.ravel(image) for image, _ in data])  # Flatten each image into a one-dimensional array\n",
        "y = np.array([annotation for _, annotation in data])\n",
        "\n",
        "# Split the data into training and testing sets\n",
        "X_train, X_test, y_train, y_test = train_test_split(X, y, test_size=0.2, random_state=42)\n"
      ],
      "metadata": {
        "id": "saZXdOWw8dgb"
      },
      "execution_count": 8,
      "outputs": []
    },
    {
      "cell_type": "code",
      "source": [
        "import numpy as np\n",
        "from sklearn.linear_model import LogisticRegression\n",
        "from sklearn.model_selection import train_test_split\n",
        "from sklearn.metrics import accuracy_score\n",
        "\n",
        "# Assuming data is a list of tuples (image, annotation)\n",
        "\n",
        "# Extract features (images) and labels (annotations)\n",
        "X = np.array([np.ravel(image) for image, _ in data])  # Flatten each image into a one-dimensional array\n",
        "y = np.array([annotation for _, annotation in data])\n",
        "\n",
        "# Split the data into training and testing sets\n",
        "X_train, X_test, y_train, y_test = train_test_split(X, y, test_size=0.2, random_state=42)\n",
        "\n",
        "# Create a logistic regression model\n",
        "model = LogisticRegression(max_iter= 2000)\n",
        "\n",
        "# Train the model\n",
        "model.fit(X_train, y_train)\n",
        "\n",
        "# Make predictions\n",
        "y_pred = model.predict(X_test)\n",
        "\n",
        "# Calculate accuracy\n",
        "accuracy = accuracy_score(y_test, y_pred)\n",
        "print(\"Logistic Regression Accuracy:\", accuracy)\n"
      ],
      "metadata": {
        "colab": {
          "base_uri": "https://localhost:8080/"
        },
        "id": "Bz5g9M1R8dvi",
        "outputId": "c48fa513-f2b9-4b89-9792-3ee7e98df8b2"
      },
      "execution_count": 13,
      "outputs": [
        {
          "output_type": "stream",
          "name": "stdout",
          "text": [
            "Logistic Regression Accuracy: 0.4840764331210191\n"
          ]
        }
      ]
    },
    {
      "cell_type": "code",
      "source": [
        "from sklearn.naive_bayes import GaussianNB\n",
        "\n",
        "# Create a Naive Bayes classifier\n",
        "model = GaussianNB()\n",
        "\n",
        "# Train the model\n",
        "model.fit(X_train, y_train)\n",
        "\n",
        "# Make predictions\n",
        "y_pred = model.predict(X_test)\n",
        "\n",
        "# Calculate accuracy\n",
        "accuracy = accuracy_score(y_test, y_pred)\n",
        "print(\"Naive Bayes Classifier Accuracy:\", accuracy)\n"
      ],
      "metadata": {
        "colab": {
          "base_uri": "https://localhost:8080/"
        },
        "id": "jQVLFaqb8eE4",
        "outputId": "66412606-e3de-4203-a31b-bd1e65dcbba6"
      },
      "execution_count": 10,
      "outputs": [
        {
          "output_type": "stream",
          "name": "stdout",
          "text": [
            "Naive Bayes Classifier Accuracy: 0.4267515923566879\n"
          ]
        }
      ]
    },
    {
      "cell_type": "code",
      "source": [
        "import pandas as pd\n",
        "from sklearn.metrics import precision_score, recall_score, f1_score, accuracy_score\n",
        "from sklearn.model_selection import train_test_split\n",
        "from sklearn.linear_model import LogisticRegression\n",
        "from sklearn.naive_bayes import GaussianNB\n",
        "\n",
        "# Assuming X_train, X_test, y_train, y_test are your training and testing data\n",
        "# Define a list of tuples containing model name and model instance\n",
        "models = [\n",
        "    ('LR', LogisticRegression()),\n",
        "    ('NB', GaussianNB())\n",
        "]\n",
        "\n",
        "# Create an empty list to store the results\n",
        "results = []\n",
        "\n",
        "# Iterate over each model\n",
        "for name, model in models:\n",
        "    # Train the model\n",
        "    model.fit(X_train, y_train)\n",
        "\n",
        "    # Make predictions\n",
        "    y_pred = model.predict(X_test)\n",
        "\n",
        "    # Calculate evaluation metrics\n",
        "    accuracy = accuracy_score(y_test, y_pred)\n",
        "    precision = precision_score(y_test, y_pred, average='weighted')\n",
        "    recall = recall_score(y_test, y_pred, average='weighted')\n",
        "    f1 = f1_score(y_test, y_pred, average='weighted')\n",
        "\n",
        "    # Append results to list\n",
        "    results.append((name, accuracy, precision, recall, f1))\n",
        "\n",
        "# Convert the list of results into a DataFrame\n",
        "results_df = pd.DataFrame(results, columns=['Model', 'Accuracy', 'Precision', 'Recall', 'F1 Score'])\n",
        "\n",
        "# Print the results\n",
        "print(results_df)\n"
      ],
      "metadata": {
        "colab": {
          "base_uri": "https://localhost:8080/"
        },
        "id": "9BGiW9RO9zC_",
        "outputId": "e72bd0f7-d245-4279-a4ab-311dd05d7b9a"
      },
      "execution_count": 11,
      "outputs": [
        {
          "output_type": "stream",
          "name": "stderr",
          "text": [
            "/usr/local/lib/python3.10/dist-packages/sklearn/linear_model/_logistic.py:458: ConvergenceWarning: lbfgs failed to converge (status=1):\n",
            "STOP: TOTAL NO. of ITERATIONS REACHED LIMIT.\n",
            "\n",
            "Increase the number of iterations (max_iter) or scale the data as shown in:\n",
            "    https://scikit-learn.org/stable/modules/preprocessing.html\n",
            "Please also refer to the documentation for alternative solver options:\n",
            "    https://scikit-learn.org/stable/modules/linear_model.html#logistic-regression\n",
            "  n_iter_i = _check_optimize_result(\n"
          ]
        },
        {
          "output_type": "stream",
          "name": "stdout",
          "text": [
            "  Model  Accuracy  Precision    Recall  F1 Score\n",
            "0    LR  0.496815   0.519095  0.496815  0.499299\n",
            "1    NB  0.426752   0.459230  0.426752  0.438464\n"
          ]
        }
      ]
    }
  ]
}